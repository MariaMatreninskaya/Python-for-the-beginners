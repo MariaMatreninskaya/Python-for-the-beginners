{
  "nbformat": 4,
  "nbformat_minor": 0,
  "metadata": {
    "colab": {
      "name": "ДЗ1_задача2",
      "provenance": [],
      "collapsed_sections": [],
      "toc_visible": true,
      "authorship_tag": "ABX9TyPOjYrMtqL28fKC7mkv8y3A",
      "include_colab_link": true
    },
    "kernelspec": {
      "name": "python3",
      "display_name": "Python 3"
    },
    "language_info": {
      "name": "python"
    }
  },
  "cells": [
    {
      "cell_type": "markdown",
      "metadata": {
        "id": "view-in-github",
        "colab_type": "text"
      },
      "source": [
        "<a href=\"https://colab.research.google.com/github/MariaMatreninskaya/Python-for-the-beginners/blob/master/%D0%94%D0%971_%D0%B7%D0%B0%D0%B4%D0%B0%D1%87%D0%B02.ipynb\" target=\"_parent\"><img src=\"https://colab.research.google.com/assets/colab-badge.svg\" alt=\"Open In Colab\"/></a>"
      ]
    },
    {
      "cell_type": "code",
      "metadata": {
        "colab": {
          "base_uri": "https://localhost:8080/"
        },
        "id": "eACAbHemYuVK",
        "outputId": "39c23dc1-5666-4de7-c564-01f58cd9c3b3"
      },
      "source": [
        "a = int (input(\"Введите продолжительность операции в секундах\" ))\n",
        "h = int(a/3600)\n",
        "m = int(a/60-h*60)\n",
        "s = int(a - h*3600-m*60)\n",
        "print (str(h)+str(\":\")+str(m)+str(\":\")+str(s))\n"
      ],
      "execution_count": 17,
      "outputs": [
        {
          "output_type": "stream",
          "name": "stdout",
          "text": [
            "Введите продолжительность операции в секундах8500\n",
            "2:21:40\n"
          ]
        }
      ]
    }
  ]
}