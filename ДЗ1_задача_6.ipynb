{
  "nbformat": 4,
  "nbformat_minor": 0,
  "metadata": {
    "colab": {
      "name": "ДЗ1_задача 6",
      "provenance": [],
      "collapsed_sections": [],
      "authorship_tag": "ABX9TyNX4ublLBQlBtE8FTdbzVYK",
      "include_colab_link": true
    },
    "kernelspec": {
      "name": "python3",
      "display_name": "Python 3"
    },
    "language_info": {
      "name": "python"
    }
  },
  "cells": [
    {
      "cell_type": "markdown",
      "metadata": {
        "id": "view-in-github",
        "colab_type": "text"
      },
      "source": [
        "<a href=\"https://colab.research.google.com/github/MariaMatreninskaya/Python-for-the-beginners/blob/master/%D0%94%D0%971_%D0%B7%D0%B0%D0%B4%D0%B0%D1%87%D0%B0_6.ipynb\" target=\"_parent\"><img src=\"https://colab.research.google.com/assets/colab-badge.svg\" alt=\"Open In Colab\"/></a>"
      ]
    },
    {
      "cell_type": "code",
      "metadata": {
        "colab": {
          "base_uri": "https://localhost:8080/"
        },
        "id": "wX6v7L9OPdG9",
        "outputId": "762563c1-aa5e-4403-90fb-b2ff7cb1b066"
      },
      "source": [
        "a = 2\n",
        "b = 15\n",
        "i = a\n",
        "n = 1\n",
        "while i <= b:\n",
        "  i = i*1.1\n",
        "  n = n+1\n",
        "print (n)"
      ],
      "execution_count": 4,
      "outputs": [
        {
          "output_type": "stream",
          "name": "stdout",
          "text": [
            "23\n"
          ]
        }
      ]
    }
  ]
}