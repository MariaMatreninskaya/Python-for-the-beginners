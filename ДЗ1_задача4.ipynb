{
  "nbformat": 4,
  "nbformat_minor": 0,
  "metadata": {
    "colab": {
      "name": "ДЗ1_задача4",
      "provenance": [],
      "authorship_tag": "ABX9TyOiUGYwCZxx4oOthljiAFKg",
      "include_colab_link": true
    },
    "kernelspec": {
      "name": "python3",
      "display_name": "Python 3"
    },
    "language_info": {
      "name": "python"
    }
  },
  "cells": [
    {
      "cell_type": "markdown",
      "metadata": {
        "id": "view-in-github",
        "colab_type": "text"
      },
      "source": [
        "<a href=\"https://colab.research.google.com/github/MariaMatreninskaya/Python-for-the-beginners/blob/master/%D0%94%D0%971_%D0%B7%D0%B0%D0%B4%D0%B0%D1%87%D0%B04.ipynb\" target=\"_parent\"><img src=\"https://colab.research.google.com/assets/colab-badge.svg\" alt=\"Open In Colab\"/></a>"
      ]
    },
    {
      "cell_type": "code",
      "metadata": {
        "colab": {
          "base_uri": "https://localhost:8080/"
        },
        "id": "Fdgs4T5OhEsm",
        "outputId": "be4ba083-6694-4620-9066-9233c444e438"
      },
      "source": [
        "a = input ('Введите любое положительное число  ')\n",
        "b = list(a)\n",
        "print (b)\n",
        "d = max(b)\n",
        "print (d)\n"
      ],
      "execution_count": 6,
      "outputs": [
        {
          "output_type": "stream",
          "name": "stdout",
          "text": [
            "Введите любое положительное число  4688821\n",
            "['4', '6', '8', '8', '8', '2', '1']\n",
            "8\n"
          ]
        }
      ]
    }
  ]
}