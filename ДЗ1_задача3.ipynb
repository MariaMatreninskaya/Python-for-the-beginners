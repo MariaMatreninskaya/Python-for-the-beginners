{
  "nbformat": 4,
  "nbformat_minor": 0,
  "metadata": {
    "colab": {
      "name": "ДЗ1_задача3",
      "provenance": [],
      "authorship_tag": "ABX9TyNTD9rJ40BekgfNyDQjvBm4",
      "include_colab_link": true
    },
    "kernelspec": {
      "name": "python3",
      "display_name": "Python 3"
    },
    "language_info": {
      "name": "python"
    }
  },
  "cells": [
    {
      "cell_type": "markdown",
      "metadata": {
        "id": "view-in-github",
        "colab_type": "text"
      },
      "source": [
        "<a href=\"https://colab.research.google.com/github/MariaMatreninskaya/Python-for-the-beginners/blob/master/%D0%94%D0%971_%D0%B7%D0%B0%D0%B4%D0%B0%D1%87%D0%B03.ipynb\" target=\"_parent\"><img src=\"https://colab.research.google.com/assets/colab-badge.svg\" alt=\"Open In Colab\"/></a>"
      ]
    },
    {
      "cell_type": "code",
      "metadata": {
        "colab": {
          "base_uri": "https://localhost:8080/"
        },
        "id": "ffuZ84oJfoC8",
        "outputId": "3b841b00-519d-4dc4-9307-410009df2c9c"
      },
      "source": [
        "n = (input('Введите любое целое положительное число'   ))\n",
        "a = int(n)\n",
        "b = int(str(n)+str(n))\n",
        "c = int(str(n)+str(n)+str(n))\n",
        "d = a + b + c\n",
        "print (d)"
      ],
      "execution_count": 4,
      "outputs": [
        {
          "output_type": "stream",
          "name": "stdout",
          "text": [
            "Введите любое целое положительное число1\n",
            "123\n"
          ]
        }
      ]
    }
  ]
}