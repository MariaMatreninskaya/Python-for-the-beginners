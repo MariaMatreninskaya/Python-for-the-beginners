{
  "nbformat": 4,
  "nbformat_minor": 0,
  "metadata": {
    "colab": {
      "name": "ДЗ1_задача5",
      "provenance": [],
      "authorship_tag": "ABX9TyPOh7JSpCLhLSsOd9MbWTyO",
      "include_colab_link": true
    },
    "kernelspec": {
      "name": "python3",
      "display_name": "Python 3"
    },
    "language_info": {
      "name": "python"
    }
  },
  "cells": [
    {
      "cell_type": "markdown",
      "metadata": {
        "id": "view-in-github",
        "colab_type": "text"
      },
      "source": [
        "<a href=\"https://colab.research.google.com/github/MariaMatreninskaya/Python-for-the-beginners/blob/master/%D0%94%D0%971_%D0%B7%D0%B0%D0%B4%D0%B0%D1%87%D0%B05.ipynb\" target=\"_parent\"><img src=\"https://colab.research.google.com/assets/colab-badge.svg\" alt=\"Open In Colab\"/></a>"
      ]
    },
    {
      "cell_type": "code",
      "metadata": {
        "colab": {
          "base_uri": "https://localhost:8080/",
          "height": 128
        },
        "id": "Fdgs4T5OhEsm",
        "outputId": "0c178b53-ac3d-4836-ea9f-51ecca40da3b"
      },
      "source": [
        "a = int(input('Введите фактическую выручку компании за 2020 год, млн.руб.   '))\n",
        "b = int(input('Введите фактические издержки компании за 2020 год, млн.руб.   '))\n",
        "if a>b:\n",
        "    print(\"Поздравляем! Вы получили положительный финансовый результат за 2020 год!\")\n",
        "    rent = int(((b-a)/a))*100\n",
        "    print(\"Рентабельность выручки составила\" +str(rent)+str(\"%\"))\n",
        "    d = int(input(\"Введите среднюю численность компании за 2020 год, чел.   \"))\n",
        "    print (\"Чистая прибыль компании на 1 сотрудника в 2020 году составила\"+str(int((b-a)/d))\n",
        "else:\n",
        "    print (\"Шеф, все пропало!\") # Я не знаю в чем тут ошибка!!!!! SOS)\n",
        "\n",
        "\n"
      ],
      "execution_count": 69,
      "outputs": [
        {
          "output_type": "error",
          "ename": "SyntaxError",
          "evalue": "ignored",
          "traceback": [
            "\u001b[0;36m  File \u001b[0;32m\"<ipython-input-69-4bc9c41d7367>\"\u001b[0;36m, line \u001b[0;32m9\u001b[0m\n\u001b[0;31m    else:\u001b[0m\n\u001b[0m       ^\u001b[0m\n\u001b[0;31mSyntaxError\u001b[0m\u001b[0;31m:\u001b[0m invalid syntax\n"
          ]
        }
      ]
    }
  ]
}